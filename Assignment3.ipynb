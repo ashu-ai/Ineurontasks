{
  "nbformat": 4,
  "nbformat_minor": 0,
  "metadata": {
    "colab": {
      "name": "Assignment3.ipynb",
      "provenance": [],
      "collapsed_sections": [],
      "authorship_tag": "ABX9TyNAYkM0aqH/uBUC1dkrVnQe",
      "include_colab_link": true
    },
    "kernelspec": {
      "name": "python3",
      "display_name": "Python 3"
    }
  },
  "cells": [
    {
      "cell_type": "markdown",
      "metadata": {
        "id": "view-in-github",
        "colab_type": "text"
      },
      "source": [
        "<a href=\"https://colab.research.google.com/github/ashu-ai/Ineurontasks/blob/Task/Assignment3.ipynb\" target=\"_parent\"><img src=\"https://colab.research.google.com/assets/colab-badge.svg\" alt=\"Open In Colab\"/></a>"
      ]
    },
    {
      "cell_type": "markdown",
      "metadata": {
        "id": "0Pun6TijYqTl"
      },
      "source": [
        "Write a Python Program to implement your own myreduce() function which works exactly\r\n",
        "like Python's built-in function reduce()\r\n"
      ]
    },
    {
      "cell_type": "code",
      "metadata": {
        "id": "3Sa-4dGLiyUt"
      },
      "source": [
        "def myreduce(fucnt_name,seq):\r\n",
        "  seqq=list(seq)\r\n",
        "  for i in seqq[1:]:\r\n",
        "    x=fucnt_name(seqq[0],i)\r\n",
        "    seqq[0]=x\r\n",
        "    \r\n",
        "  return x"
      ],
      "execution_count": 139,
      "outputs": []
    },
    {
      "cell_type": "code",
      "metadata": {
        "id": "3WPVSZuktXnu"
      },
      "source": [
        "lt=(\"ashu\",\"loves\",\"shalu\")\r\n"
      ],
      "execution_count": 143,
      "outputs": []
    },
    {
      "cell_type": "code",
      "metadata": {
        "colab": {
          "base_uri": "https://localhost:8080/",
          "height": 35
        },
        "id": "RPeY0dyztsi7",
        "outputId": "d54a992a-aaf5-41c6-9966-14634e05d4d9"
      },
      "source": [
        "myreduce(lambda x,y:x+y,lt)"
      ],
      "execution_count": 144,
      "outputs": [
        {
          "output_type": "execute_result",
          "data": {
            "application/vnd.google.colaboratory.intrinsic+json": {
              "type": "string"
            },
            "text/plain": [
              "'ashulovesshalu'"
            ]
          },
          "metadata": {
            "tags": []
          },
          "execution_count": 144
        }
      ]
    },
    {
      "cell_type": "code",
      "metadata": {
        "id": "jFbGIsjCt0X7"
      },
      "source": [
        "l=(1,2,3,4)\r\n"
      ],
      "execution_count": 142,
      "outputs": []
    },
    {
      "cell_type": "code",
      "metadata": {
        "colab": {
          "base_uri": "https://localhost:8080/"
        },
        "id": "klD2VYWbuvhY",
        "outputId": "447260bf-ce20-40f9-cabd-9775dd8b8bf1"
      },
      "source": [
        "myreduce(lambda x,y:x if x >y else y,l)"
      ],
      "execution_count": 121,
      "outputs": [
        {
          "output_type": "execute_result",
          "data": {
            "text/plain": [
              "4"
            ]
          },
          "metadata": {
            "tags": []
          },
          "execution_count": 121
        }
      ]
    },
    {
      "cell_type": "markdown",
      "metadata": {
        "id": "Cg7YsEPJveOG"
      },
      "source": [
        "Write a Python Program to implement your own myfilter() function which works exactly like Python's built-in function myfilter()\r\n",
        "\r\n"
      ]
    },
    {
      "cell_type": "code",
      "metadata": {
        "id": "uge8Ngj4vzZs"
      },
      "source": [
        "lt1 = (2,4,6,7,9,1)\r\n",
        "           "
      ],
      "execution_count": 189,
      "outputs": []
    },
    {
      "cell_type": "code",
      "metadata": {
        "id": "fpyxdSzYFaDW"
      },
      "source": [
        "def myfilter(funct_name,seq):\r\n",
        "  for i in seq:\r\n",
        "    if funct_name(i)==True:\r\n",
        "       yield i\r\n",
        "    else:\r\n",
        "      pass"
      ],
      "execution_count": 195,
      "outputs": []
    },
    {
      "cell_type": "code",
      "metadata": {
        "id": "J5Kg0iZ_HZbV"
      },
      "source": [
        "y=list(myfilter(lambda x:(x%2 == 0),lt1))"
      ],
      "execution_count": 196,
      "outputs": []
    },
    {
      "cell_type": "code",
      "metadata": {
        "colab": {
          "base_uri": "https://localhost:8080/"
        },
        "id": "K1j7uKsPIMjz",
        "outputId": "6a127fd1-4de1-42f1-f03d-eb7abab360b3"
      },
      "source": [
        "y"
      ],
      "execution_count": 186,
      "outputs": [
        {
          "output_type": "execute_result",
          "data": {
            "text/plain": [
              "[2, 4, 6]"
            ]
          },
          "metadata": {
            "tags": []
          },
          "execution_count": 186
        }
      ]
    },
    {
      "cell_type": "markdown",
      "metadata": {
        "id": "_TjgXPWOIqFd"
      },
      "source": [
        "Implement List comprehensions to produce the following lists.\r\n",
        "Write List comprehensions to produce the following Lists"
      ]
    },
    {
      "cell_type": "markdown",
      "metadata": {
        "id": "jwjpjC2iI0hO"
      },
      "source": [
        "1. ['x', 'xx', 'xxx', 'xxxx', 'y', 'yy', 'yyy', 'yyyy', 'z', 'zz', 'zzz', 'zzzz']"
      ]
    },
    {
      "cell_type": "code",
      "metadata": {
        "id": "u3jdgC5bJhb0"
      },
      "source": [
        "listt=[\"x\",\"y\",\"z\"]\r\n",
        "n=[i*j for j in listt for i in range(1,5)]\r\n"
      ],
      "execution_count": 246,
      "outputs": []
    },
    {
      "cell_type": "code",
      "metadata": {
        "colab": {
          "base_uri": "https://localhost:8080/"
        },
        "id": "CMj6qlE2Kd9y",
        "outputId": "43c39348-c188-4442-f321-126100b50b0e"
      },
      "source": [
        "n   "
      ],
      "execution_count": 247,
      "outputs": [
        {
          "output_type": "execute_result",
          "data": {
            "text/plain": [
              "['x', 'xx', 'xxx', 'xxxx', 'y', 'yy', 'yyy', 'yyyy', 'z', 'zz', 'zzz', 'zzzz']"
            ]
          },
          "metadata": {
            "tags": []
          },
          "execution_count": 247
        }
      ]
    },
    {
      "cell_type": "markdown",
      "metadata": {
        "id": "yoXcf4WeQyx1"
      },
      "source": [
        "2.['x', 'y', 'z', 'xx', 'yy', 'zz', 'xxx', 'yyy', 'zzz', 'xxxx', 'yyyy', 'zzzz']"
      ]
    },
    {
      "cell_type": "code",
      "metadata": {
        "id": "W8w_BOAoSZX7"
      },
      "source": [
        "lis=[\"x\",\"y\",\"z\"]\r\n",
        "c=[i*j for j in range(1,5) for i in lis]\r\n"
      ],
      "execution_count": 249,
      "outputs": []
    },
    {
      "cell_type": "code",
      "metadata": {
        "colab": {
          "base_uri": "https://localhost:8080/"
        },
        "id": "hepA5XG1SjsQ",
        "outputId": "c157206f-0c24-4ed1-cc46-9faf331233e8"
      },
      "source": [
        "c\r\n"
      ],
      "execution_count": 250,
      "outputs": [
        {
          "output_type": "execute_result",
          "data": {
            "text/plain": [
              "['x', 'y', 'z', 'xx', 'yy', 'zz', 'xxx', 'yyy', 'zzz', 'xxxx', 'yyyy', 'zzzz']"
            ]
          },
          "metadata": {
            "tags": []
          },
          "execution_count": 250
        }
      ]
    },
    {
      "cell_type": "markdown",
      "metadata": {
        "id": "RAAcnxTUT8gy"
      },
      "source": [
        "3. [[2], [3], [4], [3], [4], [5], [4], [5], [6]]"
      ]
    },
    {
      "cell_type": "code",
      "metadata": {
        "colab": {
          "base_uri": "https://localhost:8080/"
        },
        "id": "ITc5OzhTUGyb",
        "outputId": "f727242c-7784-481b-b052-1c50fe12c80c"
      },
      "source": [
        "lis_num=[2,3,4]\r\n",
        "emp_num=[[i+j] for i in range(0,3) for j in lis_num]\r\n",
        "\r\n",
        "emp_num"
      ],
      "execution_count": 268,
      "outputs": [
        {
          "output_type": "execute_result",
          "data": {
            "text/plain": [
              "[[2], [3], [4], [3], [4], [5], [4], [5], [6]]"
            ]
          },
          "metadata": {
            "tags": []
          },
          "execution_count": 268
        }
      ]
    },
    {
      "cell_type": "markdown",
      "metadata": {
        "id": "lKkzAHkSWj7a"
      },
      "source": [
        ""
      ]
    },
    {
      "cell_type": "markdown",
      "metadata": {
        "id": "ngANL9-XWbon"
      },
      "source": [
        "4. [[2, 3, 4, 5], [3, 4, 5, 6],\r\n",
        "[4, 5, 6, 7], [5, 6, 7, 8]]"
      ]
    },
    {
      "cell_type": "code",
      "metadata": {
        "colab": {
          "base_uri": "https://localhost:8080/"
        },
        "id": "hpemjW6MWnJ9",
        "outputId": "9b40ae19-6a25-48a7-b216-7e0e3c61556f"
      },
      "source": [
        "lis_num1=[2,3,4,5]\r\n",
        "emp_num1= [[i+j for i in range(0,4)] for j in lis_num1]\r\n",
        "emp_num1"
      ],
      "execution_count": 272,
      "outputs": [
        {
          "output_type": "execute_result",
          "data": {
            "text/plain": [
              "[[2, 3, 4, 5], [3, 4, 5, 6], [4, 5, 6, 7], [5, 6, 7, 8]]"
            ]
          },
          "metadata": {
            "tags": []
          },
          "execution_count": 272
        }
      ]
    },
    {
      "cell_type": "code",
      "metadata": {
        "id": "TWG5J8GxZEFi"
      },
      "source": [
        ""
      ],
      "execution_count": null,
      "outputs": []
    }
  ]
}