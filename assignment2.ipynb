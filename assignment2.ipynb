{
  "nbformat": 4,
  "nbformat_minor": 0,
  "metadata": {
    "colab": {
      "name": "assignment2.ipynb",
      "provenance": [],
      "authorship_tag": "ABX9TyPws0vOPF4eLX/UoX7AdBQs",
      "include_colab_link": true
    },
    "kernelspec": {
      "name": "python3",
      "display_name": "Python 3"
    }
  },
  "cells": [
    {
      "cell_type": "markdown",
      "metadata": {
        "id": "view-in-github",
        "colab_type": "text"
      },
      "source": [
        "<a href=\"https://colab.research.google.com/github/ashu-ai/Ineurontasks/blob/Task/assignment2.ipynb\" target=\"_parent\"><img src=\"https://colab.research.google.com/assets/colab-badge.svg\" alt=\"Open In Colab\"/></a>"
      ]
    },
    {
      "cell_type": "markdown",
      "metadata": {
        "id": "8aByFLI7nXg5"
      },
      "source": [
        "Create the below pattern using nested for loop in Python.(**)"
      ]
    },
    {
      "cell_type": "code",
      "metadata": {
        "colab": {
          "base_uri": "https://localhost:8080/"
        },
        "id": "wAoCevVknejR",
        "outputId": "519a1aed-4a6f-4aff-ca31-53b2b3ef23a1"
      },
      "source": [
        "Star_value=5\r\n",
        "for i in range(Star_value):\r\n",
        "    for j in range(i+1):\r\n",
        "      print('*', end=\" \")\r\n",
        "\r\n",
        "\r\n",
        "    print()\r\n",
        "for i in range(Star_value):\r\n",
        "    for j in range(4-i):\r\n",
        "      print('*',end=\" \" ) \r\n",
        "    print()  \r\n",
        " \r\n",
        "\r\n"
      ],
      "execution_count": 66,
      "outputs": [
        {
          "output_type": "stream",
          "text": [
            "* \n",
            "* * \n",
            "* * * \n",
            "* * * * \n",
            "* * * * * \n",
            "* * * * \n",
            "* * * \n",
            "* * \n",
            "* \n",
            "\n"
          ],
          "name": "stdout"
        }
      ]
    },
    {
      "cell_type": "markdown",
      "metadata": {
        "id": "gF7EQbYFwGUE"
      },
      "source": [
        "Write a Python program to reverse a word after accepting the input from the user."
      ]
    },
    {
      "cell_type": "code",
      "metadata": {
        "colab": {
          "base_uri": "https://localhost:8080/"
        },
        "id": "u1XFOJ_hwInj",
        "outputId": "8e12dbce-fc98-4453-a53e-f701545b620d"
      },
      "source": [
        "name = input(\"Enter your name: \")\r\n",
        "reverse_name = name[::-1]\r\n",
        "print(reverse_name)"
      ],
      "execution_count": 70,
      "outputs": [
        {
          "output_type": "stream",
          "text": [
            "Enter your name: Ashutosh\n",
            "hsotuhsA\n"
          ],
          "name": "stdout"
        }
      ]
    },
    {
      "cell_type": "code",
      "metadata": {
        "id": "RBaywzPkwS47"
      },
      "source": [
        ""
      ],
      "execution_count": 70,
      "outputs": []
    }
  ]
}